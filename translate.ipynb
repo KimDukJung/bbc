{
  "nbformat": 4,
  "nbformat_minor": 0,
  "metadata": {
    "colab": {
      "provenance": [],
      "gpuType": "T4",
      "mount_file_id": "1dxtuoIS-_0LB2b72sWEfpSWyZIy63QA2",
      "authorship_tag": "ABX9TyNDLHtckV7hoUt8q67MwGSV",
      "include_colab_link": true
    },
    "kernelspec": {
      "name": "python3",
      "display_name": "Python 3"
    },
    "language_info": {
      "name": "python"
    },
    "accelerator": "GPU"
  },
  "cells": [
    {
      "cell_type": "markdown",
      "metadata": {
        "id": "view-in-github",
        "colab_type": "text"
      },
      "source": [
        "<a href=\"https://colab.research.google.com/github/KimDukJung/bbc/blob/main/translate.ipynb\" target=\"_parent\"><img src=\"https://colab.research.google.com/assets/colab-badge.svg\" alt=\"Open In Colab\"/></a>"
      ]
    },
    {
      "cell_type": "code",
      "execution_count": null,
      "metadata": {
        "id": "_1xNvHADoalk"
      },
      "outputs": [],
      "source": [
        "# 1번 블록 : 패키지 임포트\n",
        "\n",
        "import numpy as np\n",
        "import pandas as pd\n",
        "from time import time\n",
        "from keras.layers import Input, LSTM, Dense\n",
        "from keras.models import Model\n",
        "\n",
        "# 하이퍼파라미터 설정\n",
        "MY_HIDDEN = 128\n",
        "MY_EPOCH = 500"
      ]
    },
    {
      "cell_type": "code",
      "source": [
        "# 2번 블록 : 데이터 로딩\n",
        "\n",
        "# 구글 드라이브 파일 경로\n",
        "path = '/content/drive/MyDrive/dataset/translate.csv'\n",
        "\n",
        "# 영어-한글 번역 데이터 읽기\n",
        "raw = pd.read_csv(path, header=None, encoding='utf-8')\n",
        "eng_kor = raw.values.tolist()\n",
        "\n",
        "# 영어-한글 번역 데이터 통계 출력\n",
        "print('영어-한글 번역 데이터 수 : ', len(eng_kor))\n",
        "print('영어-한글 번역 데이터\\n', eng_kor)\n"
      ],
      "metadata": {
        "colab": {
          "base_uri": "https://localhost:8080/"
        },
        "id": "_nVnxphZpnUv",
        "outputId": "cc36ac8c-8d4f-469f-c88d-601d2be53b83"
      },
      "execution_count": null,
      "outputs": [
        {
          "output_type": "stream",
          "name": "stdout",
          "text": [
            "영어-한글 번역 데이터 수 :  110\n",
            "영어-한글 번역 데이터\n",
            " [['cold', '감기'], ['come', '오다'], ['cook', '요리'], ['copy', '복사'], ['cost', '비용'], ['date', '날짜'], ['deal', '거래'], ['deep', '깊은'], ['desk', '책상'], ['down', '아래'], ['dust', '먼지'], ['duty', '의무'], ['each', '각각'], ['east', '동쪽'], ['easy', '쉽다'], ['exit', '탈출'], ['face', '얼굴'], ['fact', '사실'], ['fall', '가을'], ['farm', '농장'], ['feet', '다리'], ['find', '찾다'], ['fine', '좋다'], ['fish', '생선'], ['flow', '흐름'], ['fund', '기금'], ['gain', '수익'], ['game', '놀이'], ['gift', '선물'], ['girl', '소녀'], ['give', '주다'], ['goal', '목적'], ['gray', '회색'], ['hair', '머리'], ['harm', '피해'], ['hell', '지옥'], ['help', '도움'], ['high', '높은'], ['hole', '구멍'], ['hope', '소망'], ['hour', '시각'], ['join', '합류'], ['kiss', '키스'], ['knee', '무릎'], ['lady', '부인'], ['late', '늦은'], ['left', '왼쪽'], ['life', '생명'], ['loss', '손해'], ['love', '사랑'], ['luck', '행운'], ['mail', '우편'], ['male', '남자'], ['many', '많은'], ['meal', '식사'], ['meat', '고기'], ['menu', '메뉴'], ['milk', '우유'], ['name', '이름'], ['news', '뉴스'], ['next', '다음'], ['once', '한번'], ['pain', '고통'], ['part', '부분'], ['pick', '선택'], ['pink', '핑크'], ['plan', '계획'], ['read', '읽다'], ['rest', '휴식'], ['ring', '반지'], ['rock', '바위'], ['roof', '지붕'], ['root', '뿌리'], ['rose', '장미'], ['rule', '규칙'], ['salt', '소금'], ['sand', '모래'], ['sell', '팔다'], ['shop', '가게'], ['sign', '싸인'], ['size', '크기'], ['skin', '피부'], ['slow', '늦다'], ['song', '노래'], ['soon', '금방'], ['tall', '크다'], ['test', '시험'], ['them', '그들'], ['thin', '얇은'], ['this', '이것'], ['time', '시간'], ['tiny', '작은'], ['tool', '도구'], ['tour', '관광'], ['tree', '나무'], ['trip', '여행'], ['very', '매우'], ['wave', '파도'], ['weak', '약한'], ['wear', '입다'], ['west', '서쪽'], ['when', '언제'], ['wide', '넓은'], ['wife', '아내'], ['wind', '바람'], ['wing', '날개'], ['wish', '바램'], ['wood', '나무'], ['word', '단어'], ['year', '연도']]\n"
          ]
        }
      ]
    },
    {
      "cell_type": "code",
      "source": [
        "# 3번 블록 : 알파벳 사전 만들기\n",
        "# 알파벳 사전 구성 => SEPabcd.......+ 한글 글자\n",
        "\n",
        "e_alpha = [c for c in 'SEPabcdefghijklmnopqrstuvwxyz']\n",
        "print(e_alpha)\n",
        "\n",
        "# 한글 단어데이터 로딩\n",
        "path = '/content/drive/MyDrive/dataset/korean.csv'\n",
        "k_alpha = pd.read_csv(path, header=None, encoding='utf-8')\n",
        "k_alpha = k_alpha[0].values.tolist()\n",
        "print(k_alpha)"
      ],
      "metadata": {
        "id": "4ByvqPJ4rzdt",
        "colab": {
          "base_uri": "https://localhost:8080/"
        },
        "outputId": "74f886fa-b39f-4b78-c2b6-f88c1cf185a0"
      },
      "execution_count": null,
      "outputs": [
        {
          "output_type": "stream",
          "name": "stdout",
          "text": [
            "['S', 'E', 'P', 'a', 'b', 'c', 'd', 'e', 'f', 'g', 'h', 'i', 'j', 'k', 'l', 'm', 'n', 'o', 'p', 'q', 'r', 's', 't', 'u', 'v', 'w', 'x', 'y', 'z']\n",
            "['가', '각', '간', '감', '개', '거', '것', '게', '계', '고', '관', '광', '구', '굴', '규', '그', '금', '기', '깊', '나', '날', '남', '내', '넓', '녀', '노', '놀', '농', '높', '뉴', '늦', '다', '단', '도', '동', '들', '람', '랑', '래', '램', '류', '름', '릎', '리', '많', '망', '매', '머', '먼', '멍', '메', '명', '모', '목', '무', '물', '미', '바', '반', '방', '번', '복', '부', '분', '붕', '비', '뿌', '사', '상', '색', '생', '서', '선', '소', '손', '수', '쉽', '스', '시', '식', '실', '싸', '아', '약', '얇', '어', '언', '얼', '여', '연', '오', '옥', '왼', '요', '용', '우', '운', '움', '위', '유', '은', '을', '음', '의', '이', '익', '인', '읽', '입', '자', '작', '장', '적', '제', '좋', '주', '지', '짜', '쪽', '찾', '책', '출', '칙', '크', '키', '탈', '택', '통', '파', '팔', '편', '피', '핑', '한', '합', '해', '행', '험', '회', '획', '휴', '흐']\n"
          ]
        }
      ]
    },
    {
      "cell_type": "code",
      "source": [
        "# 4번 블록 : 전체 알파벳 리스트\n",
        "\n",
        "alphabet = e_alpha + k_alpha\n",
        "# print(alphabet)\n",
        "\n",
        "# 알파벳 사전 만들기\n",
        "# 알파벳을 고유 숫자로 전환\n",
        "\n",
        "char_to_num = dict((c, i) for i, c in enumerate(alphabet))\n",
        "print(char_to_num)\n",
        "print('총 알파벳 수 : ', len(alphabet))\n",
        "print('영어 알파벳 수 :',len(e_alpha))\n",
        "print('한글 알파벳 수 :',len(k_alpha))\n",
        "n_input = len(alphabet)"
      ],
      "metadata": {
        "colab": {
          "base_uri": "https://localhost:8080/"
        },
        "id": "RC7VOniotE8U",
        "outputId": "e9e827a3-4f92-4204-dfc1-c0738a24fe98"
      },
      "execution_count": null,
      "outputs": [
        {
          "output_type": "stream",
          "name": "stdout",
          "text": [
            "{'S': 0, 'E': 1, 'P': 2, 'a': 3, 'b': 4, 'c': 5, 'd': 6, 'e': 7, 'f': 8, 'g': 9, 'h': 10, 'i': 11, 'j': 12, 'k': 13, 'l': 14, 'm': 15, 'n': 16, 'o': 17, 'p': 18, 'q': 19, 'r': 20, 's': 21, 't': 22, 'u': 23, 'v': 24, 'w': 25, 'x': 26, 'y': 27, 'z': 28, '가': 29, '각': 30, '간': 31, '감': 32, '개': 33, '거': 34, '것': 35, '게': 36, '계': 37, '고': 38, '관': 39, '광': 40, '구': 41, '굴': 42, '규': 43, '그': 44, '금': 45, '기': 46, '깊': 47, '나': 48, '날': 49, '남': 50, '내': 51, '넓': 52, '녀': 53, '노': 54, '놀': 55, '농': 56, '높': 57, '뉴': 58, '늦': 59, '다': 60, '단': 61, '도': 62, '동': 63, '들': 64, '람': 65, '랑': 66, '래': 67, '램': 68, '류': 69, '름': 70, '릎': 71, '리': 72, '많': 73, '망': 74, '매': 75, '머': 76, '먼': 77, '멍': 78, '메': 79, '명': 80, '모': 81, '목': 82, '무': 83, '물': 84, '미': 85, '바': 86, '반': 87, '방': 88, '번': 89, '복': 90, '부': 91, '분': 92, '붕': 93, '비': 94, '뿌': 95, '사': 96, '상': 97, '색': 98, '생': 99, '서': 100, '선': 101, '소': 102, '손': 103, '수': 104, '쉽': 105, '스': 106, '시': 107, '식': 108, '실': 109, '싸': 110, '아': 111, '약': 112, '얇': 113, '어': 114, '언': 115, '얼': 116, '여': 117, '연': 118, '오': 119, '옥': 120, '왼': 121, '요': 122, '용': 123, '우': 124, '운': 125, '움': 126, '위': 127, '유': 128, '은': 129, '을': 130, '음': 131, '의': 132, '이': 133, '익': 134, '인': 135, '읽': 136, '입': 137, '자': 138, '작': 139, '장': 140, '적': 141, '제': 142, '좋': 143, '주': 144, '지': 145, '짜': 146, '쪽': 147, '찾': 148, '책': 149, '출': 150, '칙': 151, '크': 152, '키': 153, '탈': 154, '택': 155, '통': 156, '파': 157, '팔': 158, '편': 159, '피': 160, '핑': 161, '한': 162, '합': 163, '해': 164, '행': 165, '험': 166, '회': 167, '획': 168, '휴': 169, '흐': 170}\n",
            "총 알파벳 수 :  171\n",
            "영어 알파벳 수 : 29\n",
            "한글 알파벳 수 : 142\n"
          ]
        }
      ]
    },
    {
      "cell_type": "code",
      "source": [
        "# 5번 블록\n",
        "\n",
        "# 영어-한글 번역 데이터 인코딩 작업\n",
        "# 인코더 입력값 : 영어 단어를 단어사전에서 숫자로 변경한 다음에 원핫 인코딩\n",
        "# 디코더 입력값 : 'S' + 한글 정답 데이터를 단어사전에서 숫자로 변경한 다음 원핫 인코딩\n",
        "# 디코더 출력값 : 한글 단어 + 'E' 를 정수 인코딩\n",
        "\n",
        "def encode(eng_kor):\n",
        "  enc_in = []\n",
        "  dec_in = []\n",
        "  rnn_out = []\n",
        "  for data in eng_kor:\n",
        "    # 인코더 입력값 인코딩\n",
        "    #print(data[0])\n",
        "    eng = [char_to_num[c] for c in data[0]]\n",
        "    #print(eng)\n",
        "    one_hot = np.eye(n_input)[eng]\n",
        "    #print(one_hot)\n",
        "    enc_in.append(one_hot)\n",
        "    # 디코더 입력값 인코딩\n",
        "    #print(data[1])\n",
        "    kor = [char_to_num[c] for c in ('S' +  data[1])]\n",
        "    #print(kor)\n",
        "    one_hot = np.eye(n_input)[kor]\n",
        "    #print(one_hot)\n",
        "    dec_in.append(one_hot)\n",
        "    # 디코더 출력값 인코딩\n",
        "    target = [char_to_num[c] for c in (data[1] + 'E')]\n",
        "    #print(target)\n",
        "    rnn_out.append(target)\n",
        "\n",
        "  return enc_in, dec_in, rnn_out\n",
        "\n",
        "# encode([['wood','나무']])"
      ],
      "metadata": {
        "id": "ZBnXXasdyZbd",
        "collapsed": true
      },
      "execution_count": null,
      "outputs": []
    },
    {
      "cell_type": "code",
      "source": [
        "# 6번 블록\n",
        "\n",
        "# 샘플 번역 데이터 인코딩\n",
        "sample = [['word','단어']]\n",
        "enc_in, dec_in, rnn_out = encode(sample)\n",
        "\n",
        "print('인코더 입력값 : ', enc_in)\n",
        "print('디코더 입력값 : ', dec_in)\n",
        "print('디코더 출력값 : ', rnn_out)"
      ],
      "metadata": {
        "id": "QrJ1hbDb35qY",
        "colab": {
          "base_uri": "https://localhost:8080/"
        },
        "outputId": "86350c0f-24ee-4718-9481-96361330d90c"
      },
      "execution_count": null,
      "outputs": [
        {
          "output_type": "stream",
          "name": "stdout",
          "text": [
            "인코더 입력값 :  [array([[0., 0., 0., 0., 0., 0., 0., 0., 0., 0., 0., 0., 0., 0., 0., 0.,\n",
            "        0., 0., 0., 0., 0., 0., 0., 0., 0., 1., 0., 0., 0., 0., 0., 0.,\n",
            "        0., 0., 0., 0., 0., 0., 0., 0., 0., 0., 0., 0., 0., 0., 0., 0.,\n",
            "        0., 0., 0., 0., 0., 0., 0., 0., 0., 0., 0., 0., 0., 0., 0., 0.,\n",
            "        0., 0., 0., 0., 0., 0., 0., 0., 0., 0., 0., 0., 0., 0., 0., 0.,\n",
            "        0., 0., 0., 0., 0., 0., 0., 0., 0., 0., 0., 0., 0., 0., 0., 0.,\n",
            "        0., 0., 0., 0., 0., 0., 0., 0., 0., 0., 0., 0., 0., 0., 0., 0.,\n",
            "        0., 0., 0., 0., 0., 0., 0., 0., 0., 0., 0., 0., 0., 0., 0., 0.,\n",
            "        0., 0., 0., 0., 0., 0., 0., 0., 0., 0., 0., 0., 0., 0., 0., 0.,\n",
            "        0., 0., 0., 0., 0., 0., 0., 0., 0., 0., 0., 0., 0., 0., 0., 0.,\n",
            "        0., 0., 0., 0., 0., 0., 0., 0., 0., 0., 0.],\n",
            "       [0., 0., 0., 0., 0., 0., 0., 0., 0., 0., 0., 0., 0., 0., 0., 0.,\n",
            "        0., 1., 0., 0., 0., 0., 0., 0., 0., 0., 0., 0., 0., 0., 0., 0.,\n",
            "        0., 0., 0., 0., 0., 0., 0., 0., 0., 0., 0., 0., 0., 0., 0., 0.,\n",
            "        0., 0., 0., 0., 0., 0., 0., 0., 0., 0., 0., 0., 0., 0., 0., 0.,\n",
            "        0., 0., 0., 0., 0., 0., 0., 0., 0., 0., 0., 0., 0., 0., 0., 0.,\n",
            "        0., 0., 0., 0., 0., 0., 0., 0., 0., 0., 0., 0., 0., 0., 0., 0.,\n",
            "        0., 0., 0., 0., 0., 0., 0., 0., 0., 0., 0., 0., 0., 0., 0., 0.,\n",
            "        0., 0., 0., 0., 0., 0., 0., 0., 0., 0., 0., 0., 0., 0., 0., 0.,\n",
            "        0., 0., 0., 0., 0., 0., 0., 0., 0., 0., 0., 0., 0., 0., 0., 0.,\n",
            "        0., 0., 0., 0., 0., 0., 0., 0., 0., 0., 0., 0., 0., 0., 0., 0.,\n",
            "        0., 0., 0., 0., 0., 0., 0., 0., 0., 0., 0.],\n",
            "       [0., 0., 0., 0., 0., 0., 0., 0., 0., 0., 0., 0., 0., 0., 0., 0.,\n",
            "        0., 0., 0., 0., 1., 0., 0., 0., 0., 0., 0., 0., 0., 0., 0., 0.,\n",
            "        0., 0., 0., 0., 0., 0., 0., 0., 0., 0., 0., 0., 0., 0., 0., 0.,\n",
            "        0., 0., 0., 0., 0., 0., 0., 0., 0., 0., 0., 0., 0., 0., 0., 0.,\n",
            "        0., 0., 0., 0., 0., 0., 0., 0., 0., 0., 0., 0., 0., 0., 0., 0.,\n",
            "        0., 0., 0., 0., 0., 0., 0., 0., 0., 0., 0., 0., 0., 0., 0., 0.,\n",
            "        0., 0., 0., 0., 0., 0., 0., 0., 0., 0., 0., 0., 0., 0., 0., 0.,\n",
            "        0., 0., 0., 0., 0., 0., 0., 0., 0., 0., 0., 0., 0., 0., 0., 0.,\n",
            "        0., 0., 0., 0., 0., 0., 0., 0., 0., 0., 0., 0., 0., 0., 0., 0.,\n",
            "        0., 0., 0., 0., 0., 0., 0., 0., 0., 0., 0., 0., 0., 0., 0., 0.,\n",
            "        0., 0., 0., 0., 0., 0., 0., 0., 0., 0., 0.],\n",
            "       [0., 0., 0., 0., 0., 0., 1., 0., 0., 0., 0., 0., 0., 0., 0., 0.,\n",
            "        0., 0., 0., 0., 0., 0., 0., 0., 0., 0., 0., 0., 0., 0., 0., 0.,\n",
            "        0., 0., 0., 0., 0., 0., 0., 0., 0., 0., 0., 0., 0., 0., 0., 0.,\n",
            "        0., 0., 0., 0., 0., 0., 0., 0., 0., 0., 0., 0., 0., 0., 0., 0.,\n",
            "        0., 0., 0., 0., 0., 0., 0., 0., 0., 0., 0., 0., 0., 0., 0., 0.,\n",
            "        0., 0., 0., 0., 0., 0., 0., 0., 0., 0., 0., 0., 0., 0., 0., 0.,\n",
            "        0., 0., 0., 0., 0., 0., 0., 0., 0., 0., 0., 0., 0., 0., 0., 0.,\n",
            "        0., 0., 0., 0., 0., 0., 0., 0., 0., 0., 0., 0., 0., 0., 0., 0.,\n",
            "        0., 0., 0., 0., 0., 0., 0., 0., 0., 0., 0., 0., 0., 0., 0., 0.,\n",
            "        0., 0., 0., 0., 0., 0., 0., 0., 0., 0., 0., 0., 0., 0., 0., 0.,\n",
            "        0., 0., 0., 0., 0., 0., 0., 0., 0., 0., 0.]])]\n",
            "디코더 입력값 :  [array([[1., 0., 0., 0., 0., 0., 0., 0., 0., 0., 0., 0., 0., 0., 0., 0.,\n",
            "        0., 0., 0., 0., 0., 0., 0., 0., 0., 0., 0., 0., 0., 0., 0., 0.,\n",
            "        0., 0., 0., 0., 0., 0., 0., 0., 0., 0., 0., 0., 0., 0., 0., 0.,\n",
            "        0., 0., 0., 0., 0., 0., 0., 0., 0., 0., 0., 0., 0., 0., 0., 0.,\n",
            "        0., 0., 0., 0., 0., 0., 0., 0., 0., 0., 0., 0., 0., 0., 0., 0.,\n",
            "        0., 0., 0., 0., 0., 0., 0., 0., 0., 0., 0., 0., 0., 0., 0., 0.,\n",
            "        0., 0., 0., 0., 0., 0., 0., 0., 0., 0., 0., 0., 0., 0., 0., 0.,\n",
            "        0., 0., 0., 0., 0., 0., 0., 0., 0., 0., 0., 0., 0., 0., 0., 0.,\n",
            "        0., 0., 0., 0., 0., 0., 0., 0., 0., 0., 0., 0., 0., 0., 0., 0.,\n",
            "        0., 0., 0., 0., 0., 0., 0., 0., 0., 0., 0., 0., 0., 0., 0., 0.,\n",
            "        0., 0., 0., 0., 0., 0., 0., 0., 0., 0., 0.],\n",
            "       [0., 0., 0., 0., 0., 0., 0., 0., 0., 0., 0., 0., 0., 0., 0., 0.,\n",
            "        0., 0., 0., 0., 0., 0., 0., 0., 0., 0., 0., 0., 0., 0., 0., 0.,\n",
            "        0., 0., 0., 0., 0., 0., 0., 0., 0., 0., 0., 0., 0., 0., 0., 0.,\n",
            "        0., 0., 0., 0., 0., 0., 0., 0., 0., 0., 0., 0., 0., 1., 0., 0.,\n",
            "        0., 0., 0., 0., 0., 0., 0., 0., 0., 0., 0., 0., 0., 0., 0., 0.,\n",
            "        0., 0., 0., 0., 0., 0., 0., 0., 0., 0., 0., 0., 0., 0., 0., 0.,\n",
            "        0., 0., 0., 0., 0., 0., 0., 0., 0., 0., 0., 0., 0., 0., 0., 0.,\n",
            "        0., 0., 0., 0., 0., 0., 0., 0., 0., 0., 0., 0., 0., 0., 0., 0.,\n",
            "        0., 0., 0., 0., 0., 0., 0., 0., 0., 0., 0., 0., 0., 0., 0., 0.,\n",
            "        0., 0., 0., 0., 0., 0., 0., 0., 0., 0., 0., 0., 0., 0., 0., 0.,\n",
            "        0., 0., 0., 0., 0., 0., 0., 0., 0., 0., 0.],\n",
            "       [0., 0., 0., 0., 0., 0., 0., 0., 0., 0., 0., 0., 0., 0., 0., 0.,\n",
            "        0., 0., 0., 0., 0., 0., 0., 0., 0., 0., 0., 0., 0., 0., 0., 0.,\n",
            "        0., 0., 0., 0., 0., 0., 0., 0., 0., 0., 0., 0., 0., 0., 0., 0.,\n",
            "        0., 0., 0., 0., 0., 0., 0., 0., 0., 0., 0., 0., 0., 0., 0., 0.,\n",
            "        0., 0., 0., 0., 0., 0., 0., 0., 0., 0., 0., 0., 0., 0., 0., 0.,\n",
            "        0., 0., 0., 0., 0., 0., 0., 0., 0., 0., 0., 0., 0., 0., 0., 0.,\n",
            "        0., 0., 0., 0., 0., 0., 0., 0., 0., 0., 0., 0., 0., 0., 0., 0.,\n",
            "        0., 0., 1., 0., 0., 0., 0., 0., 0., 0., 0., 0., 0., 0., 0., 0.,\n",
            "        0., 0., 0., 0., 0., 0., 0., 0., 0., 0., 0., 0., 0., 0., 0., 0.,\n",
            "        0., 0., 0., 0., 0., 0., 0., 0., 0., 0., 0., 0., 0., 0., 0., 0.,\n",
            "        0., 0., 0., 0., 0., 0., 0., 0., 0., 0., 0.]])]\n",
            "디코더 출력값 :  [[61, 114, 1]]\n"
          ]
        }
      ]
    },
    {
      "cell_type": "code",
      "source": [
        "# 7번 블록\n",
        "\n",
        "# 영어-한글 번역 데이터 전체를 인코딩 처리\n",
        "X_enc, X_dec, Y_dec = encode(eng_kor)\n",
        "# print('encode 함수의 출력 타입 : ',type(X_enc))\n",
        "# 파이썬 리스트를 Numpy의 array로 전환\n",
        "X_enc = np.array(X_enc)\n",
        "X_dec = np.array(X_dec)\n",
        "Y_dec = np.array(Y_dec)\n",
        "\n",
        "# Numpy array 모양 출력(shape)\n",
        "print('X_enc.shape : ', X_enc.shape)\n",
        "print('X_dec.shape : ', X_dec.shape)\n",
        "print('Y_dec.shape : ', Y_dec.shape)\n",
        "\n",
        "Y_dec = np.expand_dims(Y_dec, axis=2)\n",
        "print('Y_dec.shape : ', Y_dec.shape)"
      ],
      "metadata": {
        "colab": {
          "base_uri": "https://localhost:8080/"
        },
        "id": "_gh1Q6_Iwlx6",
        "outputId": "4cbdd25e-1605-43c8-fccd-737e3f498352"
      },
      "execution_count": null,
      "outputs": [
        {
          "output_type": "stream",
          "name": "stdout",
          "text": [
            "X_enc.shape :  (110, 4, 171)\n",
            "X_dec.shape :  (110, 3, 171)\n",
            "Y_dec.shape :  (110, 3)\n",
            "Y_dec.shape :  (110, 3, 1)\n"
          ]
        }
      ]
    },
    {
      "cell_type": "code",
      "source": [
        "# 8번 블록\n",
        "\n",
        "# 인코더 구현\n",
        "ENC_IN = Input(shape=(4, n_input))\n",
        "\n",
        "_, State_h, State_c = LSTM(units = MY_HIDDEN, return_state = True)(ENC_IN)\n",
        "\n",
        "\n",
        "# 인코더와 디코더 연결 ( 셀 스테이트, 히든 스테이트)\n",
        "link = [State_h, State_c]\n",
        "\n",
        "print(link)"
      ],
      "metadata": {
        "colab": {
          "base_uri": "https://localhost:8080/"
        },
        "id": "C4zgDfYOw7Am",
        "outputId": "392ae43f-b9d7-49ad-9118-249304c2e6d2"
      },
      "execution_count": null,
      "outputs": [
        {
          "output_type": "stream",
          "name": "stdout",
          "text": [
            "[<KerasTensor shape=(None, 128), dtype=float32, sparse=False, name=keras_tensor_2>, <KerasTensor shape=(None, 128), dtype=float32, sparse=False, name=keras_tensor_3>]\n"
          ]
        }
      ]
    },
    {
      "cell_type": "code",
      "source": [
        "# 9번 블록\n",
        "\n",
        "# 디코더 구현\n",
        "DEC_IN = Input(shape=(3, n_input))\n",
        "DEC_LSTM = LSTM(units = MY_HIDDEN, return_sequences = True)(DEC_IN, initial_state = link)\n",
        "\n",
        "#최종 출력층\n",
        "DEC_OUT = Dense(units = n_input, activation = 'softmax')(DEC_LSTM)\n",
        "\n",
        "# 전체 RNN 모델\n",
        "model = Model(inputs=[ENC_IN, DEC_IN], outputs = DEC_OUT)\n",
        "\n",
        "model.summary()"
      ],
      "metadata": {
        "colab": {
          "base_uri": "https://localhost:8080/",
          "height": 352
        },
        "id": "6jGV70NXBUEv",
        "outputId": "479aa1cf-704a-4be6-dcd1-242c4e8bd4e4"
      },
      "execution_count": null,
      "outputs": [
        {
          "output_type": "display_data",
          "data": {
            "text/plain": [
              "\u001b[1mModel: \"functional\"\u001b[0m\n"
            ],
            "text/html": [
              "<pre style=\"white-space:pre;overflow-x:auto;line-height:normal;font-family:Menlo,'DejaVu Sans Mono',consolas,'Courier New',monospace\"><span style=\"font-weight: bold\">Model: \"functional\"</span>\n",
              "</pre>\n"
            ]
          },
          "metadata": {}
        },
        {
          "output_type": "display_data",
          "data": {
            "text/plain": [
              "┏━━━━━━━━━━━━━━━━━━━━━━━━━━━┳━━━━━━━━━━━━━━━━━━━━━━━━┳━━━━━━━━━━━━━━━━┳━━━━━━━━━━━━━━━━━━━━━━━━┓\n",
              "┃\u001b[1m \u001b[0m\u001b[1mLayer (type)             \u001b[0m\u001b[1m \u001b[0m┃\u001b[1m \u001b[0m\u001b[1mOutput Shape          \u001b[0m\u001b[1m \u001b[0m┃\u001b[1m \u001b[0m\u001b[1m       Param #\u001b[0m\u001b[1m \u001b[0m┃\u001b[1m \u001b[0m\u001b[1mConnected to          \u001b[0m\u001b[1m \u001b[0m┃\n",
              "┡━━━━━━━━━━━━━━━━━━━━━━━━━━━╇━━━━━━━━━━━━━━━━━━━━━━━━╇━━━━━━━━━━━━━━━━╇━━━━━━━━━━━━━━━━━━━━━━━━┩\n",
              "│ input_layer (\u001b[38;5;33mInputLayer\u001b[0m)  │ (\u001b[38;5;45mNone\u001b[0m, \u001b[38;5;34m4\u001b[0m, \u001b[38;5;34m171\u001b[0m)         │              \u001b[38;5;34m0\u001b[0m │ -                      │\n",
              "├───────────────────────────┼────────────────────────┼────────────────┼────────────────────────┤\n",
              "│ input_layer_1             │ (\u001b[38;5;45mNone\u001b[0m, \u001b[38;5;34m3\u001b[0m, \u001b[38;5;34m171\u001b[0m)         │              \u001b[38;5;34m0\u001b[0m │ -                      │\n",
              "│ (\u001b[38;5;33mInputLayer\u001b[0m)              │                        │                │                        │\n",
              "├───────────────────────────┼────────────────────────┼────────────────┼────────────────────────┤\n",
              "│ lstm (\u001b[38;5;33mLSTM\u001b[0m)               │ [(\u001b[38;5;45mNone\u001b[0m, \u001b[38;5;34m128\u001b[0m), (\u001b[38;5;45mNone\u001b[0m,   │        \u001b[38;5;34m153,600\u001b[0m │ input_layer[\u001b[38;5;34m0\u001b[0m][\u001b[38;5;34m0\u001b[0m]      │\n",
              "│                           │ \u001b[38;5;34m128\u001b[0m), (\u001b[38;5;45mNone\u001b[0m, \u001b[38;5;34m128\u001b[0m)]     │                │                        │\n",
              "├───────────────────────────┼────────────────────────┼────────────────┼────────────────────────┤\n",
              "│ lstm_1 (\u001b[38;5;33mLSTM\u001b[0m)             │ (\u001b[38;5;45mNone\u001b[0m, \u001b[38;5;34m3\u001b[0m, \u001b[38;5;34m128\u001b[0m)         │        \u001b[38;5;34m153,600\u001b[0m │ input_layer_1[\u001b[38;5;34m0\u001b[0m][\u001b[38;5;34m0\u001b[0m],   │\n",
              "│                           │                        │                │ lstm[\u001b[38;5;34m0\u001b[0m][\u001b[38;5;34m1\u001b[0m], lstm[\u001b[38;5;34m0\u001b[0m][\u001b[38;5;34m2\u001b[0m] │\n",
              "├───────────────────────────┼────────────────────────┼────────────────┼────────────────────────┤\n",
              "│ dense (\u001b[38;5;33mDense\u001b[0m)             │ (\u001b[38;5;45mNone\u001b[0m, \u001b[38;5;34m3\u001b[0m, \u001b[38;5;34m171\u001b[0m)         │         \u001b[38;5;34m22,059\u001b[0m │ lstm_1[\u001b[38;5;34m0\u001b[0m][\u001b[38;5;34m0\u001b[0m]           │\n",
              "└───────────────────────────┴────────────────────────┴────────────────┴────────────────────────┘\n"
            ],
            "text/html": [
              "<pre style=\"white-space:pre;overflow-x:auto;line-height:normal;font-family:Menlo,'DejaVu Sans Mono',consolas,'Courier New',monospace\">┏━━━━━━━━━━━━━━━━━━━━━━━━━━━┳━━━━━━━━━━━━━━━━━━━━━━━━┳━━━━━━━━━━━━━━━━┳━━━━━━━━━━━━━━━━━━━━━━━━┓\n",
              "┃<span style=\"font-weight: bold\"> Layer (type)              </span>┃<span style=\"font-weight: bold\"> Output Shape           </span>┃<span style=\"font-weight: bold\">        Param # </span>┃<span style=\"font-weight: bold\"> Connected to           </span>┃\n",
              "┡━━━━━━━━━━━━━━━━━━━━━━━━━━━╇━━━━━━━━━━━━━━━━━━━━━━━━╇━━━━━━━━━━━━━━━━╇━━━━━━━━━━━━━━━━━━━━━━━━┩\n",
              "│ input_layer (<span style=\"color: #0087ff; text-decoration-color: #0087ff\">InputLayer</span>)  │ (<span style=\"color: #00d7ff; text-decoration-color: #00d7ff\">None</span>, <span style=\"color: #00af00; text-decoration-color: #00af00\">4</span>, <span style=\"color: #00af00; text-decoration-color: #00af00\">171</span>)         │              <span style=\"color: #00af00; text-decoration-color: #00af00\">0</span> │ -                      │\n",
              "├───────────────────────────┼────────────────────────┼────────────────┼────────────────────────┤\n",
              "│ input_layer_1             │ (<span style=\"color: #00d7ff; text-decoration-color: #00d7ff\">None</span>, <span style=\"color: #00af00; text-decoration-color: #00af00\">3</span>, <span style=\"color: #00af00; text-decoration-color: #00af00\">171</span>)         │              <span style=\"color: #00af00; text-decoration-color: #00af00\">0</span> │ -                      │\n",
              "│ (<span style=\"color: #0087ff; text-decoration-color: #0087ff\">InputLayer</span>)              │                        │                │                        │\n",
              "├───────────────────────────┼────────────────────────┼────────────────┼────────────────────────┤\n",
              "│ lstm (<span style=\"color: #0087ff; text-decoration-color: #0087ff\">LSTM</span>)               │ [(<span style=\"color: #00d7ff; text-decoration-color: #00d7ff\">None</span>, <span style=\"color: #00af00; text-decoration-color: #00af00\">128</span>), (<span style=\"color: #00d7ff; text-decoration-color: #00d7ff\">None</span>,   │        <span style=\"color: #00af00; text-decoration-color: #00af00\">153,600</span> │ input_layer[<span style=\"color: #00af00; text-decoration-color: #00af00\">0</span>][<span style=\"color: #00af00; text-decoration-color: #00af00\">0</span>]      │\n",
              "│                           │ <span style=\"color: #00af00; text-decoration-color: #00af00\">128</span>), (<span style=\"color: #00d7ff; text-decoration-color: #00d7ff\">None</span>, <span style=\"color: #00af00; text-decoration-color: #00af00\">128</span>)]     │                │                        │\n",
              "├───────────────────────────┼────────────────────────┼────────────────┼────────────────────────┤\n",
              "│ lstm_1 (<span style=\"color: #0087ff; text-decoration-color: #0087ff\">LSTM</span>)             │ (<span style=\"color: #00d7ff; text-decoration-color: #00d7ff\">None</span>, <span style=\"color: #00af00; text-decoration-color: #00af00\">3</span>, <span style=\"color: #00af00; text-decoration-color: #00af00\">128</span>)         │        <span style=\"color: #00af00; text-decoration-color: #00af00\">153,600</span> │ input_layer_1[<span style=\"color: #00af00; text-decoration-color: #00af00\">0</span>][<span style=\"color: #00af00; text-decoration-color: #00af00\">0</span>],   │\n",
              "│                           │                        │                │ lstm[<span style=\"color: #00af00; text-decoration-color: #00af00\">0</span>][<span style=\"color: #00af00; text-decoration-color: #00af00\">1</span>], lstm[<span style=\"color: #00af00; text-decoration-color: #00af00\">0</span>][<span style=\"color: #00af00; text-decoration-color: #00af00\">2</span>] │\n",
              "├───────────────────────────┼────────────────────────┼────────────────┼────────────────────────┤\n",
              "│ dense (<span style=\"color: #0087ff; text-decoration-color: #0087ff\">Dense</span>)             │ (<span style=\"color: #00d7ff; text-decoration-color: #00d7ff\">None</span>, <span style=\"color: #00af00; text-decoration-color: #00af00\">3</span>, <span style=\"color: #00af00; text-decoration-color: #00af00\">171</span>)         │         <span style=\"color: #00af00; text-decoration-color: #00af00\">22,059</span> │ lstm_1[<span style=\"color: #00af00; text-decoration-color: #00af00\">0</span>][<span style=\"color: #00af00; text-decoration-color: #00af00\">0</span>]           │\n",
              "└───────────────────────────┴────────────────────────┴────────────────┴────────────────────────┘\n",
              "</pre>\n"
            ]
          },
          "metadata": {}
        },
        {
          "output_type": "display_data",
          "data": {
            "text/plain": [
              "\u001b[1m Total params: \u001b[0m\u001b[38;5;34m329,259\u001b[0m (1.26 MB)\n"
            ],
            "text/html": [
              "<pre style=\"white-space:pre;overflow-x:auto;line-height:normal;font-family:Menlo,'DejaVu Sans Mono',consolas,'Courier New',monospace\"><span style=\"font-weight: bold\"> Total params: </span><span style=\"color: #00af00; text-decoration-color: #00af00\">329,259</span> (1.26 MB)\n",
              "</pre>\n"
            ]
          },
          "metadata": {}
        },
        {
          "output_type": "display_data",
          "data": {
            "text/plain": [
              "\u001b[1m Trainable params: \u001b[0m\u001b[38;5;34m329,259\u001b[0m (1.26 MB)\n"
            ],
            "text/html": [
              "<pre style=\"white-space:pre;overflow-x:auto;line-height:normal;font-family:Menlo,'DejaVu Sans Mono',consolas,'Courier New',monospace\"><span style=\"font-weight: bold\"> Trainable params: </span><span style=\"color: #00af00; text-decoration-color: #00af00\">329,259</span> (1.26 MB)\n",
              "</pre>\n"
            ]
          },
          "metadata": {}
        },
        {
          "output_type": "display_data",
          "data": {
            "text/plain": [
              "\u001b[1m Non-trainable params: \u001b[0m\u001b[38;5;34m0\u001b[0m (0.00 B)\n"
            ],
            "text/html": [
              "<pre style=\"white-space:pre;overflow-x:auto;line-height:normal;font-family:Menlo,'DejaVu Sans Mono',consolas,'Courier New',monospace\"><span style=\"font-weight: bold\"> Non-trainable params: </span><span style=\"color: #00af00; text-decoration-color: #00af00\">0</span> (0.00 B)\n",
              "</pre>\n"
            ]
          },
          "metadata": {}
        }
      ]
    },
    {
      "cell_type": "code",
      "source": [
        "# 10번 블록\n",
        "\n",
        "# RNN 학습 환경 설정\n",
        "model.compile(optimizer = 'Adam', loss = 'sparse_categorical_crossentropy')\n",
        "\n",
        "print('학습 시작')\n",
        "begin = time()\n",
        "\n",
        "model.fit([X_enc, X_dec],\n",
        "          Y_dec,\n",
        "          epochs = MY_EPOCH,\n",
        "          verbose=0)\n",
        "\n",
        "end = time()\n",
        "print('학습 시간 : {:.2f}초'.format(end - begin))"
      ],
      "metadata": {
        "id": "mcDtxmK-D9Ls",
        "colab": {
          "base_uri": "https://localhost:8080/"
        },
        "outputId": "520e1f2b-b13e-4b99-82e7-cf8cbebaf11a"
      },
      "execution_count": null,
      "outputs": [
        {
          "output_type": "stream",
          "name": "stdout",
          "text": [
            "학습 시작\n",
            "학습 시간 : 26.99초\n"
          ]
        }
      ]
    },
    {
      "cell_type": "code",
      "source": [
        "# 11번 블록\n",
        "\n",
        "# 임의의 5개 영어-한글 데이터 선택\n",
        "pick = np.random.randint(0 , len(eng_kor), 5)\n",
        "easy = [eng_kor[i] for i in pick]\n",
        "# print(easy)\n",
        "\n",
        "for i in range(5):\n",
        "  easy[i][1] = 'PP'\n",
        "\n",
        "print(easy)\n",
        "\n",
        "# 새 번역 데이터 추가\n",
        "hard = [['love','PP'],['olve','PP'],['lvoe','PP'],['loev','PP'],['eovl','PP']]"
      ],
      "metadata": {
        "colab": {
          "base_uri": "https://localhost:8080/"
        },
        "id": "ymPRGwkXYpiw",
        "outputId": "f95bb6af-06a5-41a9-e723-89acffb66d28"
      },
      "execution_count": null,
      "outputs": [
        {
          "output_type": "stream",
          "name": "stdout",
          "text": [
            "[['gift', 'PP'], ['wind', 'PP'], ['hole', 'PP'], ['tiny', 'PP'], ['find', 'PP']]\n"
          ]
        }
      ]
    },
    {
      "cell_type": "code",
      "source": [
        "# 12번 블록\n",
        "\n",
        "# 전체 샘플 버역 데이터 합성\n",
        "new_data = easy + hard\n",
        "print(new_data)\n",
        "\n",
        "# 샘플 번역 데이터 인코딩 처리\n",
        "enc_in, dec_in, rnn_out = encode(new_data)\n",
        "\n",
        "enc_in = np.array(enc_in)\n",
        "dec_in = np.array(dec_in)\n",
        "\n",
        "# Numpy array 모양 출력(shape)\n",
        "print('enc_in.shape : ', enc_in.shape)\n",
        "print('dec_in.shape : ', dec_in.shape)\n",
        "\n",
        "# RNN 으로 예측\n",
        "pred = model.predict([enc_in, dec_in])\n",
        "print('번역 결과')\n",
        "\n",
        "for i in range(len(new_data)):\n",
        "  eng = new_data[i][0]\n",
        "\n",
        "  # 171개의 softmax 출력 확률에서 최대값 위치 찾기\n",
        "  word = np.argmax(pred[i], axis=1)\n",
        "\n",
        "  # 한글 한 글자씩 추출\n",
        "  kor =''\n",
        "  for j in range(2):\n",
        "    kor = kor + alphabet[word[j]]\n",
        "\n",
        "  # 번역 결과 출력\n",
        "\n",
        "  print(eng, ' : ', kor)"
      ],
      "metadata": {
        "colab": {
          "base_uri": "https://localhost:8080/"
        },
        "id": "s8cITfYKbzOX",
        "outputId": "e7e88b87-19a0-494b-e18b-be9e08b258f9"
      },
      "execution_count": null,
      "outputs": [
        {
          "output_type": "stream",
          "name": "stdout",
          "text": [
            "[['gift', 'PP'], ['wind', 'PP'], ['hole', 'PP'], ['tiny', 'PP'], ['find', 'PP'], ['love', 'PP'], ['olve', 'PP'], ['lvoe', 'PP'], ['loev', 'PP'], ['eovl', 'PP']]\n",
            "enc_in.shape :  (10, 4, 171)\n",
            "dec_in.shape :  (10, 3, 171)\n",
            "\u001b[1m1/1\u001b[0m \u001b[32m━━━━━━━━━━━━━━━━━━━━\u001b[0m\u001b[37m\u001b[0m \u001b[1m0s\u001b[0m 174ms/step\n",
            "번역 결과\n",
            "gift  :  선물\n",
            "wind  :  바람\n",
            "hole  :  구멍\n",
            "tiny  :  작은\n",
            "find  :  찾다\n",
            "love  :  사랑\n",
            "olve  :  사랑\n",
            "lvoe  :  사랑\n",
            "loev  :  사랑\n",
            "eovl  :  도다\n"
          ]
        }
      ]
    },
    {
      "cell_type": "code",
      "source": [],
      "metadata": {
        "id": "b0-u7_S-cA8W"
      },
      "execution_count": null,
      "outputs": []
    }
  ]
}