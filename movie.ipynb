{
  "nbformat": 4,
  "nbformat_minor": 0,
  "metadata": {
    "colab": {
      "provenance": [],
      "authorship_tag": "ABX9TyNFCxwsL9HaDWIpaTpGIX8g",
      "include_colab_link": true
    },
    "kernelspec": {
      "name": "python3",
      "display_name": "Python 3"
    },
    "language_info": {
      "name": "python"
    }
  },
  "cells": [
    {
      "cell_type": "markdown",
      "metadata": {
        "id": "view-in-github",
        "colab_type": "text"
      },
      "source": [
        "<a href=\"https://colab.research.google.com/github/KimDukJung/bbc/blob/main/movie.ipynb\" target=\"_parent\"><img src=\"https://colab.research.google.com/assets/colab-badge.svg\" alt=\"Open In Colab\"/></a>"
      ]
    },
    {
      "cell_type": "code",
      "execution_count": null,
      "metadata": {
        "id": "KF0QNy1gHDJt"
      },
      "outputs": [],
      "source": [
        "# 1번 블록\n",
        "\n",
        "#사용할 패키지 임포트\n",
        "\n",
        "from time import time  # 경과 시간 확인\n",
        "from keras.datasets import imdb\n",
        "from keras.preprocessing.sequence import pad_sequences  # 데이터를 패딩(채우기)\n",
        "from keras.models import Sequential # 순차적으로 층을 쌓겠다. 입력에서 출력방향으로\n",
        "from keras.layers import Embedding, LSTM, Dense\n",
        "\n",
        "# 하이퍼 파라미터 설정\n",
        "MY_LENGTH = 80  # 영화평 단어 수\n",
        "MY_WORD = 5000  # 사전 단어 수\n",
        "MY_SAMPLE = 5   # 샘플 영화평\n"
      ]
    },
    {
      "cell_type": "code",
      "source": [
        "# 2번 블록\n",
        "\n",
        "# keras로 데이터 파일 준비\n",
        "(X_train, Y_train), (X_test, Y_test)=imdb.load_data(num_words=MY_WORD)\n",
        "\n",
        "# 샘플 영화평 출력\n",
        "print('샘플 영화평:\\n', X_train[MY_SAMPLE])\n",
        "print('총 단어 수:\\n', len(X_train[MY_SAMPLE]))\n",
        "print('감성 (0=부정, 1=긍정):', Y_train[MY_SAMPLE])"
      ],
      "metadata": {
        "colab": {
          "base_uri": "https://localhost:8080/"
        },
        "id": "arnMlQxh1XlJ",
        "outputId": "eb9c1019-9ad4-44c0-cb4f-72a60c325852"
      },
      "execution_count": null,
      "outputs": [
        {
          "output_type": "stream",
          "name": "stdout",
          "text": [
            "샘플 영화평:\n",
            " [1, 778, 128, 74, 12, 630, 163, 15, 4, 1766, 2, 1051, 2, 32, 85, 156, 45, 40, 148, 139, 121, 664, 665, 10, 10, 1361, 173, 4, 749, 2, 16, 3804, 8, 4, 226, 65, 12, 43, 127, 24, 2, 10, 10]\n",
            "총 단어 수:\n",
            " 43\n",
            "감성 (0=부정, 1=긍정): 0\n"
          ]
        }
      ]
    },
    {
      "cell_type": "code",
      "source": [
        "# 3번 블록\n",
        "\n",
        "# 각 영화평의 길이를 일정하게 맞춤\n",
        "X_train = pad_sequences(sequences=X_train,  # 패딩할 원본 데이터\n",
        "                        truncating = 'post',   # 영화평 길이가 우리가 지정한 80 단어보다 길면 뒤쪽(post)을 자르겠다.\n",
        "                        padding = 'post',   # 영화평 길이가 80단어보다 짧으면 뒤쪽에 0을 패딩하겠다.\n",
        "                        maxlen=MY_LENGTH)   # 최대 길이는 MY_LENGTH로 지정한 80단어로 하겠다.\n",
        "X_test = pad_sequences(sequences=X_test,\n",
        "                       truncating = 'post',\n",
        "                       padding = 'post',\n",
        "                       maxlen=MY_LENGTH)\n",
        "\n",
        "# 최종 데이터 모양 출력\n",
        "print('\\n학습용 입력 데이터 모양 : ', X_train.shape)\n",
        "print('학습용 출력 데이터 모양 : ', Y_train.shape)\n",
        "print('테스트용 입력 데이터 모양 : ', X_test.shape)\n",
        "print('테스트용 출력 데이터 모양 : ', Y_test.shape)"
      ],
      "metadata": {
        "colab": {
          "base_uri": "https://localhost:8080/"
        },
        "id": "tXNlWAcT46su",
        "outputId": "aa49a9a4-c322-422f-c518-6526b2e03585"
      },
      "execution_count": null,
      "outputs": [
        {
          "output_type": "stream",
          "name": "stdout",
          "text": [
            "\n",
            "학습용 입력 데이터 모양 :  (25000, 80)\n",
            "학습용 출력 데이터 모양 :  (25000,)\n",
            "테스트용 입력 데이터 모양 :  (25000, 80)\n",
            "테스트용 출력 데이터 모양 :  (25000,)\n"
          ]
        }
      ]
    },
    {
      "cell_type": "code",
      "source": [
        "# 4번 블록\n",
        "\n",
        "# RNN 구현\n",
        "model = Sequential()     # RNN 모델의 층을 순차적으로(입력 -> 출력) 쌓겠다.\n",
        "model.add(Embedding(input_dim=MY_WORD, output_dim=32, input_length=MY_LENGTH))\n",
        "model.add(LSTM(units=64 , input_shape=(MY_LENGTH , 32)))\n",
        "model.add(Dense(units=1, activation='sigmoid'))\n",
        "\n",
        "print('RNN 요약')\n",
        "model.summary()"
      ],
      "metadata": {
        "colab": {
          "base_uri": "https://localhost:8080/",
          "height": 342
        },
        "id": "Xpu4o-gnC07D",
        "outputId": "afece3de-ca5a-4894-8657-9690f52dc310"
      },
      "execution_count": null,
      "outputs": [
        {
          "output_type": "stream",
          "name": "stdout",
          "text": [
            "RNN 요약\n"
          ]
        },
        {
          "output_type": "stream",
          "name": "stderr",
          "text": [
            "/usr/local/lib/python3.10/dist-packages/keras/src/layers/core/embedding.py:90: UserWarning: Argument `input_length` is deprecated. Just remove it.\n",
            "  warnings.warn(\n",
            "/usr/local/lib/python3.10/dist-packages/keras/src/layers/rnn/rnn.py:204: UserWarning: Do not pass an `input_shape`/`input_dim` argument to a layer. When using Sequential models, prefer using an `Input(shape)` object as the first layer in the model instead.\n",
            "  super().__init__(**kwargs)\n"
          ]
        },
        {
          "output_type": "display_data",
          "data": {
            "text/plain": [
              "\u001b[1mModel: \"sequential_1\"\u001b[0m\n"
            ],
            "text/html": [
              "<pre style=\"white-space:pre;overflow-x:auto;line-height:normal;font-family:Menlo,'DejaVu Sans Mono',consolas,'Courier New',monospace\"><span style=\"font-weight: bold\">Model: \"sequential_1\"</span>\n",
              "</pre>\n"
            ]
          },
          "metadata": {}
        },
        {
          "output_type": "display_data",
          "data": {
            "text/plain": [
              "┏━━━━━━━━━━━━━━━━━━━━━━━━━━━━━━━━━━━━━━┳━━━━━━━━━━━━━━━━━━━━━━━━━━━━━┳━━━━━━━━━━━━━━━━━┓\n",
              "┃\u001b[1m \u001b[0m\u001b[1mLayer (type)                        \u001b[0m\u001b[1m \u001b[0m┃\u001b[1m \u001b[0m\u001b[1mOutput Shape               \u001b[0m\u001b[1m \u001b[0m┃\u001b[1m \u001b[0m\u001b[1m        Param #\u001b[0m\u001b[1m \u001b[0m┃\n",
              "┡━━━━━━━━━━━━━━━━━━━━━━━━━━━━━━━━━━━━━━╇━━━━━━━━━━━━━━━━━━━━━━━━━━━━━╇━━━━━━━━━━━━━━━━━┩\n",
              "│ embedding_1 (\u001b[38;5;33mEmbedding\u001b[0m)              │ ?                           │     \u001b[38;5;34m0\u001b[0m (unbuilt) │\n",
              "├──────────────────────────────────────┼─────────────────────────────┼─────────────────┤\n",
              "│ lstm_1 (\u001b[38;5;33mLSTM\u001b[0m)                        │ ?                           │     \u001b[38;5;34m0\u001b[0m (unbuilt) │\n",
              "├──────────────────────────────────────┼─────────────────────────────┼─────────────────┤\n",
              "│ dense_1 (\u001b[38;5;33mDense\u001b[0m)                      │ ?                           │     \u001b[38;5;34m0\u001b[0m (unbuilt) │\n",
              "└──────────────────────────────────────┴─────────────────────────────┴─────────────────┘\n"
            ],
            "text/html": [
              "<pre style=\"white-space:pre;overflow-x:auto;line-height:normal;font-family:Menlo,'DejaVu Sans Mono',consolas,'Courier New',monospace\">┏━━━━━━━━━━━━━━━━━━━━━━━━━━━━━━━━━━━━━━┳━━━━━━━━━━━━━━━━━━━━━━━━━━━━━┳━━━━━━━━━━━━━━━━━┓\n",
              "┃<span style=\"font-weight: bold\"> Layer (type)                         </span>┃<span style=\"font-weight: bold\"> Output Shape                </span>┃<span style=\"font-weight: bold\">         Param # </span>┃\n",
              "┡━━━━━━━━━━━━━━━━━━━━━━━━━━━━━━━━━━━━━━╇━━━━━━━━━━━━━━━━━━━━━━━━━━━━━╇━━━━━━━━━━━━━━━━━┩\n",
              "│ embedding_1 (<span style=\"color: #0087ff; text-decoration-color: #0087ff\">Embedding</span>)              │ ?                           │     <span style=\"color: #00af00; text-decoration-color: #00af00\">0</span> (unbuilt) │\n",
              "├──────────────────────────────────────┼─────────────────────────────┼─────────────────┤\n",
              "│ lstm_1 (<span style=\"color: #0087ff; text-decoration-color: #0087ff\">LSTM</span>)                        │ ?                           │     <span style=\"color: #00af00; text-decoration-color: #00af00\">0</span> (unbuilt) │\n",
              "├──────────────────────────────────────┼─────────────────────────────┼─────────────────┤\n",
              "│ dense_1 (<span style=\"color: #0087ff; text-decoration-color: #0087ff\">Dense</span>)                      │ ?                           │     <span style=\"color: #00af00; text-decoration-color: #00af00\">0</span> (unbuilt) │\n",
              "└──────────────────────────────────────┴─────────────────────────────┴─────────────────┘\n",
              "</pre>\n"
            ]
          },
          "metadata": {}
        },
        {
          "output_type": "display_data",
          "data": {
            "text/plain": [
              "\u001b[1m Total params: \u001b[0m\u001b[38;5;34m0\u001b[0m (0.00 B)\n"
            ],
            "text/html": [
              "<pre style=\"white-space:pre;overflow-x:auto;line-height:normal;font-family:Menlo,'DejaVu Sans Mono',consolas,'Courier New',monospace\"><span style=\"font-weight: bold\"> Total params: </span><span style=\"color: #00af00; text-decoration-color: #00af00\">0</span> (0.00 B)\n",
              "</pre>\n"
            ]
          },
          "metadata": {}
        },
        {
          "output_type": "display_data",
          "data": {
            "text/plain": [
              "\u001b[1m Trainable params: \u001b[0m\u001b[38;5;34m0\u001b[0m (0.00 B)\n"
            ],
            "text/html": [
              "<pre style=\"white-space:pre;overflow-x:auto;line-height:normal;font-family:Menlo,'DejaVu Sans Mono',consolas,'Courier New',monospace\"><span style=\"font-weight: bold\"> Trainable params: </span><span style=\"color: #00af00; text-decoration-color: #00af00\">0</span> (0.00 B)\n",
              "</pre>\n"
            ]
          },
          "metadata": {}
        },
        {
          "output_type": "display_data",
          "data": {
            "text/plain": [
              "\u001b[1m Non-trainable params: \u001b[0m\u001b[38;5;34m0\u001b[0m (0.00 B)\n"
            ],
            "text/html": [
              "<pre style=\"white-space:pre;overflow-x:auto;line-height:normal;font-family:Menlo,'DejaVu Sans Mono',consolas,'Courier New',monospace\"><span style=\"font-weight: bold\"> Non-trainable params: </span><span style=\"color: #00af00; text-decoration-color: #00af00\">0</span> (0.00 B)\n",
              "</pre>\n"
            ]
          },
          "metadata": {}
        }
      ]
    },
    {
      "cell_type": "code",
      "source": [
        "# 5번 블록\n",
        "\n",
        "# RNN 학습\n",
        "model.compile(optimizer='adam',    # 최적화 함수\n",
        "              loss='binary_crossentropy',   # 손실 함수\n",
        "              metrics=['acc'])     # 매 에포크마다 출력할 값 ( acc = 정확도 )\n",
        "start = time()\n",
        "\n",
        "model.fit(x = X_train,  # 학습용 입력 데이터 설정\n",
        "          y = Y_train,   # X_train에 대응되는 정답 데이터\n",
        "          epochs = 10,\n",
        "          batch_size = 200,\n",
        "          verbose = 1  )\n",
        "\n",
        "end = time()\n",
        "print('\\n 총 학습 시간 : {:.2f}초'.format(end - start))"
      ],
      "metadata": {
        "colab": {
          "base_uri": "https://localhost:8080/"
        },
        "id": "eGtWqwfgHzGc",
        "outputId": "8618aaff-9fb9-4941-bc20-9ace3eca4c37"
      },
      "execution_count": null,
      "outputs": [
        {
          "output_type": "stream",
          "name": "stdout",
          "text": [
            "Epoch 1/10\n",
            "\u001b[1m125/125\u001b[0m \u001b[32m━━━━━━━━━━━━━━━━━━━━\u001b[0m\u001b[37m\u001b[0m \u001b[1m22s\u001b[0m 152ms/step - acc: 0.5852 - loss: 0.6441\n",
            "Epoch 2/10\n",
            "\u001b[1m125/125\u001b[0m \u001b[32m━━━━━━━━━━━━━━━━━━━━\u001b[0m\u001b[37m\u001b[0m \u001b[1m19s\u001b[0m 140ms/step - acc: 0.8290 - loss: 0.3962\n",
            "Epoch 3/10\n",
            "\u001b[1m125/125\u001b[0m \u001b[32m━━━━━━━━━━━━━━━━━━━━\u001b[0m\u001b[37m\u001b[0m \u001b[1m23s\u001b[0m 162ms/step - acc: 0.8521 - loss: 0.3463\n",
            "Epoch 4/10\n",
            "\u001b[1m125/125\u001b[0m \u001b[32m━━━━━━━━━━━━━━━━━━━━\u001b[0m\u001b[37m\u001b[0m \u001b[1m19s\u001b[0m 148ms/step - acc: 0.8720 - loss: 0.3102\n",
            "Epoch 5/10\n",
            "\u001b[1m125/125\u001b[0m \u001b[32m━━━━━━━━━━━━━━━━━━━━\u001b[0m\u001b[37m\u001b[0m \u001b[1m22s\u001b[0m 160ms/step - acc: 0.8791 - loss: 0.3001\n",
            "Epoch 6/10\n",
            "\u001b[1m125/125\u001b[0m \u001b[32m━━━━━━━━━━━━━━━━━━━━\u001b[0m\u001b[37m\u001b[0m \u001b[1m20s\u001b[0m 160ms/step - acc: 0.8830 - loss: 0.2878\n",
            "Epoch 7/10\n",
            "\u001b[1m125/125\u001b[0m \u001b[32m━━━━━━━━━━━━━━━━━━━━\u001b[0m\u001b[37m\u001b[0m \u001b[1m21s\u001b[0m 168ms/step - acc: 0.8931 - loss: 0.2644\n",
            "Epoch 8/10\n",
            "\u001b[1m125/125\u001b[0m \u001b[32m━━━━━━━━━━━━━━━━━━━━\u001b[0m\u001b[37m\u001b[0m \u001b[1m40s\u001b[0m 161ms/step - acc: 0.9002 - loss: 0.2429\n",
            "Epoch 9/10\n",
            "\u001b[1m125/125\u001b[0m \u001b[32m━━━━━━━━━━━━━━━━━━━━\u001b[0m\u001b[37m\u001b[0m \u001b[1m18s\u001b[0m 147ms/step - acc: 0.9135 - loss: 0.2171\n",
            "Epoch 10/10\n",
            "\u001b[1m125/125\u001b[0m \u001b[32m━━━━━━━━━━━━━━━━━━━━\u001b[0m\u001b[37m\u001b[0m \u001b[1m22s\u001b[0m 162ms/step - acc: 0.9177 - loss: 0.2075\n",
            "\n",
            " 총 학습 시간 : 226.65초\n"
          ]
        }
      ]
    },
    {
      "cell_type": "code",
      "source": [
        "# 6번 블록\n",
        "\n",
        "# RNN 평가\n",
        "\n",
        "score = model.evaluate(x=X_test,\n",
        "                       y=Y_test,\n",
        "                       verbose = 1)\n",
        "\n",
        "print('최종 정확도: {:.2f}'.format(score[1]))\n",
        "\n",
        "# RNN 예측\n",
        "test = X_test[MY_SAMPLE].reshape(1, 80)\n",
        "pred = model.predict(test)\n",
        "pred = (pred > 0.5)\n",
        "\n",
        "# 감성 예측 출력\n",
        "print('\\n샘플 영화평:\\n', test)\n",
        "print('RNN 감성 예측 : ',pred)\n",
        "print('정답 (0=부정, 1=긍정) : ', Y_test[MY_SAMPLE])"
      ],
      "metadata": {
        "colab": {
          "base_uri": "https://localhost:8080/"
        },
        "id": "b4TS16ELVxFM",
        "outputId": "230abbb0-fef3-4193-bf03-ff98aab892e2"
      },
      "execution_count": null,
      "outputs": [
        {
          "output_type": "stream",
          "name": "stdout",
          "text": [
            "\u001b[1m782/782\u001b[0m \u001b[32m━━━━━━━━━━━━━━━━━━━━\u001b[0m\u001b[37m\u001b[0m \u001b[1m11s\u001b[0m 14ms/step - acc: 0.7813 - loss: 0.6308\n",
            "최종 정확도: 0.78\n",
            "\u001b[1m1/1\u001b[0m \u001b[32m━━━━━━━━━━━━━━━━━━━━\u001b[0m\u001b[37m\u001b[0m \u001b[1m0s\u001b[0m 319ms/step\n",
            "\n",
            "샘플 영화평:\n",
            " [[   1  146  427    2   14   20  218  112 2962   32   37  119   14   20\n",
            "   144    2  910    5    2    4 4659   18   12 3403  853   28    8 2225\n",
            "    12   95  474  818 4651   18 1462   13  124  285    5 1462   11   14\n",
            "    20  122    6   52  292    5   13  774 2626   46  138  910 1481  276\n",
            "    14   20   23  288   42   23 1856   11 2364    2   33  222   13  774\n",
            "   110  101 4651   14    9    6 3799   52   20    5]]\n",
            "RNN 감성 예측 :  [[ True]]\n",
            "정답 (0=부정, 1=긍정) :  1\n"
          ]
        }
      ]
    }
  ]
}