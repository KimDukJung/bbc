{
  "nbformat": 4,
  "nbformat_minor": 0,
  "metadata": {
    "colab": {
      "provenance": [],
      "gpuType": "T4",
      "mount_file_id": "1yK9_iGVvnHE6ExFOow8-1xfs6zYOKgsS",
      "authorship_tag": "ABX9TyNYpq8hr4YeYuzYrRSWQSVX",
      "include_colab_link": true
    },
    "kernelspec": {
      "name": "python3",
      "display_name": "Python 3"
    },
    "language_info": {
      "name": "python"
    },
    "accelerator": "GPU"
  },
  "cells": [
    {
      "cell_type": "markdown",
      "metadata": {
        "id": "view-in-github",
        "colab_type": "text"
      },
      "source": [
        "<a href=\"https://colab.research.google.com/github/KimDukJung/bbc/blob/main/bbc_classic.ipynb\" target=\"_parent\"><img src=\"https://colab.research.google.com/assets/colab-badge.svg\" alt=\"Open In Colab\"/></a>"
      ]
    },
    {
      "cell_type": "code",
      "execution_count": null,
      "metadata": {
        "id": "8BBmL6O7iu3W"
      },
      "outputs": [],
      "source": [
        "# 1번 블록\n",
        "\n",
        "# 기본 패키지 임포트\n",
        "import csv\n",
        "import numpy as np\n",
        "from time import time\n",
        "\n",
        "# 데이터 처리 관련 패키지 임포트\n",
        "import nltk\n",
        "from tensorflow.keras.preprocessing.text import Tokenizer\n",
        "from keras.preprocessing.sequence import pad_sequences\n",
        "from sklearn.model_selection import train_test_split\n",
        "\n",
        "# 인공신경망 관련 패키지 임포트\n",
        "from keras.models import Sequential\n",
        "from keras.layers import Embedding, LSTM, Dense, Dropout\n"
      ]
    },
    {
      "cell_type": "code",
      "source": [
        "# 2번 블록\n",
        "# 하이퍼파라미터\n",
        "\n",
        "MY_VOCAB = 5000  # 내가 사용할 단어 수\n",
        "MY_EMBED = 64  # 임베딩 차원\n",
        "MY_HIDDEN = 100  # LSTM 출력 셀의 크기\n",
        "MY_LEN = 200    # 기사 최대 길이\n",
        "\n",
        "MY_SPLIT = 0.8   # 학습용 데이터 비율\n",
        "MY_SAMPLE = 123   # 샘플용 기사를 123번으로 하겠다\n",
        "MY_EPOCH = 10   # 에포크 횟수\n",
        "\n",
        "# 데이터 보관 공간 설정\n",
        "original = []   # 원본 기사\n",
        "processed = []   # 전처리 된 기사\n",
        "labels = []    # 기사 정답, 카테고리 라벨"
      ],
      "metadata": {
        "id": "hx4SoPStm7l1"
      },
      "execution_count": null,
      "outputs": []
    },
    {
      "cell_type": "code",
      "source": [
        "# 3번 블록\n",
        "\n",
        "# 제외어(stopword) 설정\n",
        "nltk.download('stopwords')\n",
        "MY_STOP = set(nltk.corpus.stopwords.words('english'))\n",
        "\n",
        "# 제외어 출력\n",
        "print('영어 제외어', MY_STOP)\n",
        "print('제외어 개수 : ', len(MY_STOP))\n",
        "print(type(MY_STOP))\n",
        "print('the' in MY_STOP)"
      ],
      "metadata": {
        "colab": {
          "base_uri": "https://localhost:8080/"
        },
        "id": "t-bAhafLoARa",
        "outputId": "c4bd74b5-ce37-435e-d617-4ed1a34698e3"
      },
      "execution_count": null,
      "outputs": [
        {
          "output_type": "stream",
          "name": "stdout",
          "text": [
            "영어 제외어 {'weren', 'been', \"mustn't\", \"didn't\", \"shan't\", \"haven't\", 'll', 'm', 'up', 'own', 'should', 'myself', 'their', 'are', 'me', 'has', 'hasn', 'than', 'doesn', \"should've\", \"you're\", 'be', 'theirs', \"it's\", 'them', 'have', 'over', 'doing', 'because', 'a', 'that', 'then', 'both', 'i', 'can', \"hadn't\", 'won', 'an', 'we', \"that'll\", 't', \"isn't\", 'against', 'couldn', 'while', 'all', \"don't\", 'herself', 'most', 'at', 'not', 'these', 'further', 'between', \"weren't\", \"she's\", 'too', 'he', 'yours', 'him', 'it', 'haven', 'being', 'isn', 'ourselves', \"needn't\", 'o', 'ours', 'in', 'of', 'having', 'ain', 's', 'needn', 'his', 'again', 'through', 'itself', 'few', 'himself', 'am', 'had', 'which', 'or', \"you've\", 'yourself', 'd', 'do', 'and', \"couldn't\", \"won't\", 'after', 'those', 'to', 'there', 'above', 'yourselves', 'same', \"you'll\", 'each', 'hadn', \"shouldn't\", 'here', 'her', 'were', 'mightn', 're', 'you', 'into', 'as', 'until', 'where', 'with', 'during', 'below', 'hers', \"hasn't\", 'was', 'such', 'now', 'is', 'she', 'didn', 'the', 'if', 'our', 'more', 'will', 'any', 'nor', 'off', 'themselves', 'y', \"doesn't\", 'shan', 'my', 'some', 'wasn', 'did', \"mightn't\", 'mustn', 'for', 'very', 'this', 'ma', 'on', 'how', 'does', 'out', 'don', 'shouldn', 'whom', 'your', 've', 'about', 'when', \"wouldn't\", 'who', 'they', 'but', 'once', 'before', 'aren', 'by', 'no', 'just', 'why', 'only', \"you'd\", 'other', 'its', 'what', \"wasn't\", 'so', 'from', 'wouldn', \"aren't\", 'down', 'under'}\n",
            "제외어 개수 :  179\n",
            "<class 'set'>\n",
            "True\n"
          ]
        },
        {
          "output_type": "stream",
          "name": "stderr",
          "text": [
            "[nltk_data] Downloading package stopwords to /root/nltk_data...\n",
            "[nltk_data]   Package stopwords is already up-to-date!\n"
          ]
        }
      ]
    },
    {
      "cell_type": "code",
      "source": [
        "# 4번 블록\n",
        "\n",
        "# 파일읽고 처리\n",
        "path = '/content/drive/MyDrive/dataset/bbc-text.csv'\n",
        "\n",
        "with open(path, 'r', encoding='utf-8') as file:\n",
        "  # header 처리\n",
        "  reader = csv.reader(file)\n",
        "  header = next(reader)\n",
        "  print(header)\n",
        "  # 기사 한줄씩 처리\n",
        "  for row in reader:\n",
        "    labels.append(row[0])\n",
        "    original.append(row[1])\n",
        "    news = row[1]\n",
        "\n",
        "    # 제외어 검색 후 삭제\n",
        "    # print('작업 전 : ',news)\n",
        "    for word in MY_STOP:\n",
        "      token = ' ' + word + ' '\n",
        "      news = news.replace(token, ' ')\n",
        "    # print('작업 후 : ',news)\n",
        "    processed.append(news)\n",
        "\n",
        "print('처리한 전체 기사 개수 : ',len(processed))"
      ],
      "metadata": {
        "colab": {
          "base_uri": "https://localhost:8080/"
        },
        "id": "Ab1TuAMYrNzf",
        "outputId": "41da79bd-bfcb-489c-cf60-dce5bd9e6190"
      },
      "execution_count": null,
      "outputs": [
        {
          "output_type": "stream",
          "name": "stdout",
          "text": [
            "['category', 'text']\n",
            "처리한 전체 기사 개수 :  2225\n"
          ]
        }
      ]
    },
    {
      "cell_type": "code",
      "source": [
        "# 5번 블록\n",
        "\n",
        "print('샘플 기사 원본 : ', original[MY_SAMPLE])\n",
        "print('샘플 기사 카테고리 : ', labels[MY_SAMPLE])\n",
        "print('샘플 기사 타입 : ', type(original[MY_SAMPLE]))\n",
        "print('샘플의 총 단어 수 : ', len(original[MY_SAMPLE].split()))\n",
        "\n",
        "print('제외어 제거된 샘플 : ', processed[MY_SAMPLE])\n",
        "print('제외어 제외된 샘플의 총 단어 수 : ', len(processed[MY_SAMPLE].split()))"
      ],
      "metadata": {
        "colab": {
          "base_uri": "https://localhost:8080/"
        },
        "id": "zOamW6WuzZR2",
        "outputId": "69293271-0a38-4217-fbba-430fe60c35e5"
      },
      "execution_count": null,
      "outputs": [
        {
          "output_type": "stream",
          "name": "stdout",
          "text": [
            "샘플 기사 원본 :  screensaver tackles spam websites net users are getting the chance to fight back against spam websites  internet portal lycos has made a screensaver that endlessly requests data from sites that sell the goods and services mentioned in spam e-mail. lycos hopes it will make the monthly bandwidth bills of spammers soar by keeping their servers running flat out. the net firm estimates that if enough people sign up and download the tool  spammers could end up paying to send out terabytes of data.   we ve never really solved the big problem of spam which is that its so damn cheap and easy to do   said malte pollmann  spokesman for lycos europe.  in the past we have built up the spam filtering systems for our users   he said   but now we are going to go one step further.    we ve found a way to make it much higher cost for spammers by putting a load on their servers.  by getting thousands of people to download and use the screensaver  lycos hopes to get spamming websites constantly running at almost full capacity. mr pollmann said there was no intention to stop the spam websites working by subjecting them with too much data to cope with. he said the screensaver had been carefully written to ensure that the amount of traffic it generated from each user did not overload the web.  every single user will contribute three to four megabytes per day   he said   about one mp3 file.  but  he said  if enough people sign up spamming websites could be force to pay for gigabytes of traffic every single day. lycos did not want to use e-mail to fight back  said mr pollmann.  that would be fighting one bad thing with another bad thing   he said.  the sites being targeted are those mentioned in spam e-mail messages and which sell the goods and services on offer.  typically these sites are different to those that used to send out spam e-mail and they typically only get a few thousand visitors per day. the list of sites that the screensaver will target is taken from real-time blacklists generated by organisations such as spamcop. to limit the chance of mistakes being made  lycos is using people to ensure that the sites are selling spam goods. as these sites rarely use advertising to offset hosting costs  the burden of high-bandwidth bills could make spam too expensive  said mr pollmann. sites will also slow down under the weight of data requests. early results show that response times of some sites have deteriorated by up to 85%. users do not have to be registered users of lycos to download and use the screensaver. while working  the screensaver shows the websites that are being bothered with requests for data. the screensaver is due to be launched across europe on 1 december and before now has only been trialled in sweden. despite the soft launch  mr pollmann said that the screensaver had been downloaded more than 20 000 times in the last four days.  there s a huge user demand to not only filter spam day-by-day but to do something more   he said  before now users have never had the chance to be a bit more offensive.\n",
            "샘플 기사 카테고리 :  tech\n",
            "샘플 기사 타입 :  <class 'str'>\n",
            "샘플의 총 단어 수 :  536\n",
            "제외어 제거된 샘플 :  screensaver tackles spam websites net users getting chance fight back spam websites  internet portal lycos made screensaver endlessly requests data sites sell goods services mentioned spam e-mail. lycos hopes make monthly bandwidth bills spammers soar keeping servers running flat out. net firm estimates enough people sign download tool  spammers could end paying send terabytes data.   never really solved big problem spam damn cheap easy   said malte pollmann  spokesman lycos europe.  past built spam filtering systems users   said   going go one step further.    found way make much higher cost spammers putting load servers.  getting thousands people download use screensaver  lycos hopes get spamming websites constantly running almost full capacity. mr pollmann said intention stop spam websites working subjecting much data cope with. said screensaver carefully written ensure amount traffic generated user overload web.  every single user contribute three four megabytes per day   said   one mp3 file.   said  enough people sign spamming websites could force pay gigabytes traffic every single day. lycos want use e-mail fight back  said mr pollmann.  would fighting one bad thing another bad thing   said.  sites targeted mentioned spam e-mail messages sell goods services offer.  typically sites different used send spam e-mail typically get thousand visitors per day. list sites screensaver target taken real-time blacklists generated organisations spamcop. limit chance mistakes made  lycos using people ensure sites selling spam goods. sites rarely use advertising offset hosting costs  burden high-bandwidth bills could make spam expensive  said mr pollmann. sites also slow weight data requests. early results show response times sites deteriorated 85%. users registered users lycos download use screensaver. working  screensaver shows websites bothered requests data. screensaver due launched across europe 1 december trialled sweden. despite soft launch  mr pollmann said screensaver downloaded 20 000 times last four days.  huge user demand filter spam day-by-day something   said  users never chance bit offensive.\n",
            "제외어 제외된 샘플의 총 단어 수 :  303\n"
          ]
        }
      ]
    }
  ]
}